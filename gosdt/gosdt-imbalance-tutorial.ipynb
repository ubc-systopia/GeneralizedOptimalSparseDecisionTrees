{
 "cells": [
  {
   "cell_type": "code",
   "execution_count": 1,
   "metadata": {},
   "outputs": [],
   "source": [
    "import pandas as pd\n",
    "import numpy as np\n",
    "import time\n",
    "import pathlib\n",
    "from sklearn.ensemble import GradientBoostingClassifier\n",
    "from sklearn.model_selection import train_test_split\n",
    "from gosdt.model.threshold_guess import compute_thresholds, cut\n",
    "from gosdt.model.gosdt import GOSDT"
   ]
  },
  {
   "cell_type": "markdown",
   "metadata": {},
   "source": [
    "**Below we show examples on how to run f1, auc convex hull, and partial auc convex hull using GOSDT. Note that optimization for these objectives are slower than optimizing accuracy and balanced accuracy, since dynamic programming can not be applied.**\n",
    "\n",
    "\n",
    "### Example 1 (Monk 1)\n",
    "\n",
    "We first show examples using Monk 1 dataset. "
   ]
  },
  {
   "cell_type": "code",
   "execution_count": 2,
   "metadata": {},
   "outputs": [
    {
     "data": {
      "text/html": [
       "<div>\n",
       "<style scoped>\n",
       "    .dataframe tbody tr th:only-of-type {\n",
       "        vertical-align: middle;\n",
       "    }\n",
       "\n",
       "    .dataframe tbody tr th {\n",
       "        vertical-align: top;\n",
       "    }\n",
       "\n",
       "    .dataframe thead th {\n",
       "        text-align: right;\n",
       "    }\n",
       "</style>\n",
       "<table border=\"1\" class=\"dataframe\">\n",
       "  <thead>\n",
       "    <tr style=\"text-align: right;\">\n",
       "      <th></th>\n",
       "      <th>head_shape_round</th>\n",
       "      <th>head_shape_square</th>\n",
       "      <th>head_shape_octagon</th>\n",
       "      <th>body_shape_round</th>\n",
       "      <th>body_shape_square</th>\n",
       "      <th>body_shape_octagon</th>\n",
       "      <th>is_smiling_yes</th>\n",
       "      <th>is_smiling_no</th>\n",
       "      <th>holding_sword</th>\n",
       "      <th>holding_balloon</th>\n",
       "      <th>holding_flag</th>\n",
       "      <th>jacket_color_red</th>\n",
       "      <th>jacket_color_yellow</th>\n",
       "      <th>jacket_color_green</th>\n",
       "      <th>jacket_color_blue</th>\n",
       "      <th>has_tie_yes</th>\n",
       "      <th>has_tie_no</th>\n",
       "    </tr>\n",
       "  </thead>\n",
       "  <tbody>\n",
       "    <tr>\n",
       "      <th>0</th>\n",
       "      <td>1</td>\n",
       "      <td>0</td>\n",
       "      <td>0</td>\n",
       "      <td>1</td>\n",
       "      <td>0</td>\n",
       "      <td>0</td>\n",
       "      <td>1</td>\n",
       "      <td>0</td>\n",
       "      <td>1</td>\n",
       "      <td>0</td>\n",
       "      <td>0</td>\n",
       "      <td>0</td>\n",
       "      <td>0</td>\n",
       "      <td>1</td>\n",
       "      <td>0</td>\n",
       "      <td>1</td>\n",
       "      <td>0</td>\n",
       "    </tr>\n",
       "    <tr>\n",
       "      <th>1</th>\n",
       "      <td>1</td>\n",
       "      <td>0</td>\n",
       "      <td>0</td>\n",
       "      <td>1</td>\n",
       "      <td>0</td>\n",
       "      <td>0</td>\n",
       "      <td>1</td>\n",
       "      <td>0</td>\n",
       "      <td>1</td>\n",
       "      <td>0</td>\n",
       "      <td>0</td>\n",
       "      <td>0</td>\n",
       "      <td>0</td>\n",
       "      <td>1</td>\n",
       "      <td>0</td>\n",
       "      <td>0</td>\n",
       "      <td>1</td>\n",
       "    </tr>\n",
       "    <tr>\n",
       "      <th>2</th>\n",
       "      <td>1</td>\n",
       "      <td>0</td>\n",
       "      <td>0</td>\n",
       "      <td>1</td>\n",
       "      <td>0</td>\n",
       "      <td>0</td>\n",
       "      <td>1</td>\n",
       "      <td>0</td>\n",
       "      <td>0</td>\n",
       "      <td>0</td>\n",
       "      <td>1</td>\n",
       "      <td>0</td>\n",
       "      <td>1</td>\n",
       "      <td>0</td>\n",
       "      <td>0</td>\n",
       "      <td>1</td>\n",
       "      <td>0</td>\n",
       "    </tr>\n",
       "    <tr>\n",
       "      <th>3</th>\n",
       "      <td>1</td>\n",
       "      <td>0</td>\n",
       "      <td>0</td>\n",
       "      <td>1</td>\n",
       "      <td>0</td>\n",
       "      <td>0</td>\n",
       "      <td>1</td>\n",
       "      <td>0</td>\n",
       "      <td>0</td>\n",
       "      <td>0</td>\n",
       "      <td>1</td>\n",
       "      <td>0</td>\n",
       "      <td>0</td>\n",
       "      <td>1</td>\n",
       "      <td>0</td>\n",
       "      <td>0</td>\n",
       "      <td>1</td>\n",
       "    </tr>\n",
       "    <tr>\n",
       "      <th>4</th>\n",
       "      <td>1</td>\n",
       "      <td>0</td>\n",
       "      <td>0</td>\n",
       "      <td>1</td>\n",
       "      <td>0</td>\n",
       "      <td>0</td>\n",
       "      <td>0</td>\n",
       "      <td>1</td>\n",
       "      <td>1</td>\n",
       "      <td>0</td>\n",
       "      <td>0</td>\n",
       "      <td>0</td>\n",
       "      <td>1</td>\n",
       "      <td>0</td>\n",
       "      <td>0</td>\n",
       "      <td>1</td>\n",
       "      <td>0</td>\n",
       "    </tr>\n",
       "  </tbody>\n",
       "</table>\n",
       "</div>"
      ],
      "text/plain": [
       "   head_shape_round  head_shape_square  head_shape_octagon  body_shape_round  \\\n",
       "0                 1                  0                   0                 1   \n",
       "1                 1                  0                   0                 1   \n",
       "2                 1                  0                   0                 1   \n",
       "3                 1                  0                   0                 1   \n",
       "4                 1                  0                   0                 1   \n",
       "\n",
       "   body_shape_square  body_shape_octagon  is_smiling_yes  is_smiling_no  \\\n",
       "0                  0                   0               1              0   \n",
       "1                  0                   0               1              0   \n",
       "2                  0                   0               1              0   \n",
       "3                  0                   0               1              0   \n",
       "4                  0                   0               0              1   \n",
       "\n",
       "   holding_sword  holding_balloon  holding_flag  jacket_color_red  \\\n",
       "0              1                0             0                 0   \n",
       "1              1                0             0                 0   \n",
       "2              0                0             1                 0   \n",
       "3              0                0             1                 0   \n",
       "4              1                0             0                 0   \n",
       "\n",
       "   jacket_color_yellow  jacket_color_green  jacket_color_blue  has_tie_yes  \\\n",
       "0                    0                   1                  0            1   \n",
       "1                    0                   1                  0            0   \n",
       "2                    1                   0                  0            1   \n",
       "3                    0                   1                  0            0   \n",
       "4                    1                   0                  0            1   \n",
       "\n",
       "   has_tie_no  \n",
       "0           0  \n",
       "1           1  \n",
       "2           0  \n",
       "3           1  \n",
       "4           0  "
      ]
     },
     "execution_count": 2,
     "metadata": {},
     "output_type": "execute_result"
    }
   ],
   "source": [
    "from sklearn.preprocessing import OneHotEncoder\n",
    "df = pd.read_csv(\n",
    "    \"https://archive.ics.uci.edu/ml/machine-learning-databases/monks-problems/monks-1.train\", sep=\" \", header=None)\n",
    "df = df.iloc[:,1:-1]\n",
    "\n",
    "# assign column names \n",
    "df.columns = [\"label\", \"head_shape\", \"body_shape\", \"is_smiling\", \"holding\", \"jacket_color\", \"has_tie\"]\n",
    "X = df.iloc[:,1:]\n",
    "y = df.iloc[:,0]\n",
    "y = pd.DataFrame(y)\n",
    "\n",
    "# Encode the categorical features to binary features\n",
    "enc = OneHotEncoder()\n",
    "enc.fit(X)\n",
    "X = pd.DataFrame(enc.transform(X).toarray(), dtype=int)\n",
    "X.columns = [\"head_shape_round\", \"head_shape_square\", \"head_shape_octagon\", \n",
    "                 \"body_shape_round\", \"body_shape_square\", \"body_shape_octagon\",\n",
    "                 \"is_smiling_yes\", \"is_smiling_no\", \n",
    "                 \"holding_sword\", \"holding_balloon\", \"holding_flag\",\n",
    "                 \"jacket_color_red\", \"jacket_color_yellow\", \"jacket_color_green\", \"jacket_color_blue\",\n",
    "                 \"has_tie_yes\", \"has_tie_no\"\n",
    "                ]\n",
    "X.head()"
   ]
  },
  {
   "cell_type": "markdown",
   "metadata": {},
   "source": [
    "Below is an example to set up the configuration. For ``accuracy``, ``balanced accuracy``, ``weighted accuracy``, we suggest using C++ version, since it uses the dynamic programming and can be much faster. \n",
    "\n",
    "**F1 score**: \n",
    "{ \"objective\": \"f1\", \"w\": 0.9, \"theta\": None}. You need to specify hyperparameter $w \\in (0,1)$. This is because optimizing F-score is much harder than other arbitrary monotonic losses.Thus,we simplify the labeling step by incorporating a parameter $w$ at each leaf node. \n",
    "\n",
    "**AUC convex hull**: { \"objective\": \"auc\", \"w\": None, \"theta\": None } \n",
    "\n",
    "**Partial AUC convex hull**: { \"objective\": \"pauc\", \"w\": None, \"theta\": 0.1 } You need to specify hyperparameter $\\theta \\in (0,1)$. $\\theta$ is used to specify the left most part of the ROC curve. "
   ]
  },
  {
   "cell_type": "markdown",
   "metadata": {},
   "source": [
    "#### (a) F1 objective"
   ]
  },
  {
   "cell_type": "code",
   "execution_count": 3,
   "metadata": {},
   "outputs": [],
   "source": [
    "config={\n",
    "        \"regularization\": 0.01,\n",
    "        \"objective\": \"f1\",\n",
    "        \"w\": 0.9,\n",
    "        \"time_limit\": 60\n",
    "}"
   ]
  },
  {
   "cell_type": "code",
   "execution_count": 4,
   "metadata": {},
   "outputs": [],
   "source": [
    "model = GOSDT(config)"
   ]
  },
  {
   "cell_type": "code",
   "execution_count": 5,
   "metadata": {},
   "outputs": [
    {
     "name": "stdout",
     "output_type": "stream",
     "text": [
      "loss function: f1\n",
      "lambda:  0.01\n",
      "COUNT_UNIQLEAVES: 2185\n",
      "COUNT_LEAFLOOKUPS: 80609\n",
      "total time:  9.146592378616333\n",
      "leaves:  [(1,), (-9, -1, 2), (-1, 2, 9), (-13, -3, -2, -1), (-3, -2, -1, 13), (-12, -2, -1, 3), (-2, -1, 3, 12)]\n",
      "num_captured:  [29, 31, 8, 20, 12, 11, 13]\n",
      "prediction:  [1, 0, 1, 0, 1, 0, 1]\n",
      "Objective:  0.07\n",
      "f1 :  1.0\n",
      "COUNT of the best tree:  3476\n",
      "time when the best tree is achieved:  0.23038196563720703\n",
      "TOTAL COUNT:  176434\n"
     ]
    },
    {
     "data": {
      "text/plain": [
       "<gosdt.model.gosdt_fix.GOSDT at 0x25796e70d48>"
      ]
     },
     "execution_count": 5,
     "metadata": {},
     "output_type": "execute_result"
    }
   ],
   "source": [
    "model.fit(X, y)"
   ]
  },
  {
   "cell_type": "markdown",
   "metadata": {},
   "source": [
    "Decode leaves"
   ]
  },
  {
   "cell_type": "code",
   "execution_count": 6,
   "metadata": {},
   "outputs": [
    {
     "data": {
      "text/plain": [
       "{'feature': 11,\n",
       " 'name': 'jacket_color_red',\n",
       " 'reference': 1,\n",
       " 'relation': '==',\n",
       " 'true': {'complexity': 0.01, 'loss': 0.0, 'name': 'class', 'prediction': 1},\n",
       " 'false': {'feature': 0,\n",
       "  'name': 'head_shape_round',\n",
       "  'reference': 1,\n",
       "  'relation': '==',\n",
       "  'true': {'feature': 3,\n",
       "   'name': 'body_shape_round',\n",
       "   'reference': 1,\n",
       "   'relation': '==',\n",
       "   'true': {'complexity': 0.01, 'loss': 0.0, 'name': 'class', 'prediction': 1},\n",
       "   'false': {'complexity': 0.01,\n",
       "    'loss': 0.0,\n",
       "    'name': 'class',\n",
       "    'prediction': 0}},\n",
       "  'false': {'feature': 2,\n",
       "   'name': 'head_shape_octagon',\n",
       "   'reference': 1,\n",
       "   'relation': '==',\n",
       "   'true': {'feature': 5,\n",
       "    'name': 'body_shape_octagon',\n",
       "    'reference': 1,\n",
       "    'relation': '==',\n",
       "    'true': {'complexity': 0.01,\n",
       "     'loss': 0.0,\n",
       "     'name': 'class',\n",
       "     'prediction': 1},\n",
       "    'false': {'complexity': 0.01,\n",
       "     'loss': 0.0,\n",
       "     'name': 'class',\n",
       "     'prediction': 0}},\n",
       "   'false': {'feature': 4,\n",
       "    'name': 'body_shape_square',\n",
       "    'reference': 1,\n",
       "    'relation': '==',\n",
       "    'true': {'complexity': 0.01,\n",
       "     'loss': 0.0,\n",
       "     'name': 'class',\n",
       "     'prediction': 1},\n",
       "    'false': {'complexity': 0.01,\n",
       "     'loss': 0.0,\n",
       "     'name': 'class',\n",
       "     'prediction': 0}}}}}"
      ]
     },
     "execution_count": 6,
     "metadata": {},
     "output_type": "execute_result"
    }
   ],
   "source": [
    "model.tree.source"
   ]
  },
  {
   "cell_type": "markdown",
   "metadata": {},
   "source": [
    "We can now explore more about the obtained tree. "
   ]
  },
  {
   "cell_type": "code",
   "execution_count": 7,
   "metadata": {},
   "outputs": [
    {
     "name": "stdout",
     "output_type": "stream",
     "text": [
      "Model training time: 9.1525593\n",
      "Training accuracy: 1.0\n",
      "# of leaves: 7\n"
     ]
    }
   ],
   "source": [
    "acc = model.score(X, y) # calculate the accuracy\n",
    "n_leaves = model.leaves()\n",
    "n_nodes = model.nodes()\n",
    "\n",
    "print(\"Model training time: {}\".format(model.duration))\n",
    "print(\"Training accuracy: {}\".format(acc))\n",
    "print(\"# of leaves: {}\".format(n_leaves))"
   ]
  },
  {
   "cell_type": "code",
   "execution_count": 8,
   "metadata": {},
   "outputs": [
    {
     "name": "stdout",
     "output_type": "stream",
     "text": [
      "f1 score: 1.0\n"
     ]
    }
   ],
   "source": [
    "# Note that if you want to test f1 metric, tree.score() won't work. \n",
    "from sklearn.metrics import f1_score\n",
    "y_hat = model.predict(X)\n",
    "print(\"f1 score:\", f1_score(y, y_hat))"
   ]
  },
  {
   "cell_type": "markdown",
   "metadata": {},
   "source": [
    "#### (b) AUC convex hull objective"
   ]
  },
  {
   "cell_type": "code",
   "execution_count": 9,
   "metadata": {},
   "outputs": [
    {
     "name": "stdout",
     "output_type": "stream",
     "text": [
      "loss function: auc\n",
      "lambda:  0.01\n",
      "COUNT_UNIQLEAVES: 3087\n",
      "COUNT_LEAFLOOKUPS: 99455\n",
      "total time:  56.81161284446716\n",
      "leaves:  [(1,), (-12, -1, 3), (-1, 3, 12), (-14, -9, -3, -1), (-14, -3, -1, 9), (-13, -3, -1, 14), (-3, -1, 13, 14)]\n",
      "num_captured:  [29, 11, 13, 31, 8, 20, 12]\n",
      "prediction:  [1, 1, 1, 1, 1, 1, 1]\n",
      "Objective:  0.07\n",
      "auc :  1.0\n",
      "COUNT of the best tree:  52236\n",
      "time when the best tree is achieved:  14.399035930633545\n",
      "TOTAL COUNT:  247840\n",
      "{'feature': 11, 'name': 'jacket_color_red', 'reference': 1, 'relation': '==', 'true': {'complexity': 0.01, 'loss': 0.0, 'name': 'class', 'prediction': 1}, 'false': {'feature': 2, 'name': 'head_shape_octagon', 'reference': 1, 'relation': '==', 'true': {'feature': 5, 'name': 'body_shape_octagon', 'reference': 1, 'relation': '==', 'true': {'complexity': 0.01, 'loss': 0.0, 'name': 'class', 'prediction': 1}, 'false': {'complexity': 0.01, 'loss': 0.08870967741935482, 'name': 'class', 'prediction': 1}}, 'false': {'feature': 1, 'name': 'head_shape_square', 'reference': 1, 'relation': '==', 'true': {'feature': 4, 'name': 'body_shape_square', 'reference': 1, 'relation': '==', 'true': {'complexity': 0.01, 'loss': 0.0, 'name': 'class', 'prediction': 1}, 'false': {'complexity': 0.01, 'loss': 0.16129032258064507, 'name': 'class', 'prediction': 1}}, 'false': {'feature': 3, 'name': 'body_shape_round', 'reference': 1, 'relation': '==', 'true': {'complexity': 0.01, 'loss': 0.0, 'name': 'class', 'prediction': 1}, 'false': {'complexity': 0.01, 'loss': 0.24999999999999983, 'name': 'class', 'prediction': 1}}}}}\n"
     ]
    }
   ],
   "source": [
    "config={\n",
    "        \"regularization\": 0.01,\n",
    "        \"objective\": \"auc\",\n",
    "        \"time_limit\": 60\n",
    "}\n",
    "model = GOSDT(config)\n",
    "model.fit(X, y)\n",
    "print(model.tree.source)"
   ]
  },
  {
   "cell_type": "markdown",
   "metadata": {},
   "source": [
    "The algorithm can finish running within 60 seconds time limit. You may find one thing above is interesting. Prediction vector contains all ones. This is because for ``auc`` and ``pauc`` metric, we are optimizing the convex hull. Code below can be used to draw ROC curve for ``auc`` and ``pauc`` objectives. "
   ]
  },
  {
   "cell_type": "code",
   "execution_count": 10,
   "metadata": {},
   "outputs": [],
   "source": [
    "def helper(node, X, y):\n",
    "    node[\"pos_neg\"] = [y.sum()[0], y.shape[0]-y.sum()[0], y.sum()[0]/y.shape[0]]\n",
    "    \n",
    "    if \"relation\" in node:\n",
    "        if node[\"relation\"] == \"==\":\n",
    "            X_left = X[X[node[\"name\"]] == node[\"reference\"]]\n",
    "            y_left = y[X[node[\"name\"]] == node[\"reference\"]]\n",
    "            X_right = X[X[node[\"name\"]] != node[\"reference\"]]\n",
    "            y_right = y[X[node[\"name\"]] != node[\"reference\"]]\n",
    "    else:\n",
    "        X_left, y_left, X_right, y_right = None, None, None, None\n",
    "    return node, X_left, y_left, X_right, y_right\n",
    "        \n",
    "\n",
    "def add_prob(tree, X, y):\n",
    "    pos_neg = []\n",
    "    nodes = [tree]\n",
    "    data = [[X, y]]\n",
    "    while len(nodes) > 0:\n",
    "        node = nodes.pop()\n",
    "        data_tmp = data.pop()\n",
    "        X = data_tmp[0]\n",
    "        y = data_tmp[1]\n",
    "        node, X_left, y_left, X_right, y_right = helper(node, X, y)\n",
    "        if \"prediction\" not in node:\n",
    "            nodes.append(node[\"true\"])\n",
    "            data.append([X_left, y_left])\n",
    "            nodes.append(node[\"false\"])\n",
    "            data.append([X_right, y_right])\n",
    "        else:\n",
    "            pos_neg.append(node[\"pos_neg\"])\n",
    "    return pos_neg\n",
    "\n",
    "def plot_roc(tree, X, y):\n",
    "    # plot roc curve for auc and pauc objective\n",
    "    pos_neg = add_prob(tree, X, y)\n",
    "    pos_neg = np.array(pos_neg).T\n",
    "    \n",
    "    P = np.count_nonzero(y) # positive samples\n",
    "    N = len(y) - P\n",
    "    \n",
    "    pos_neg = pos_neg[:,np.argsort(pos_neg[2,])]\n",
    "    pos_neg = np.flip(pos_neg, axis=1)\n",
    "    pos_neg = np.cumsum(pos_neg,axis=1)\n",
    "    init = np.array([[0], [0], [0]])\n",
    "    pos_neg = np.append(init, pos_neg, axis=1)  \n",
    "    tp = pos_neg[0, :]\n",
    "    fp = pos_neg[1, :]\n",
    "    out = 0.5*sum([(pos_neg[0,i]+pos_neg[0,i-1])*(pos_neg[1,i]-pos_neg[1,i-1])/(P*N) for i in range(1,len(tp))])\n",
    "    print(\"area under roc curve:\", out)\n",
    "    plt.plot([f/N for f in fp], [f/P for f in tp], 'go-', linewidth=2)\n"
   ]
  },
  {
   "cell_type": "code",
   "execution_count": 11,
   "metadata": {},
   "outputs": [
    {
     "name": "stdout",
     "output_type": "stream",
     "text": [
      "area under roc curve: 1.0\n"
     ]
    },
    {
     "data": {
      "image/png": "[encoded data removed]",
      "text/plain": [
       "<Figure size 432x288 with 1 Axes>"
      ]
     },
     "metadata": {
      "needs_background": "light"
     },
     "output_type": "display_data"
    }
   ],
   "source": [
    "import copy\n",
    "from matplotlib import pyplot as plt\n",
    "a = copy.deepcopy(model.tree.source)       \n",
    "plot_roc(a, X, y)"
   ]
  },
  {
   "cell_type": "markdown",
   "metadata": {},
   "source": [
    "#### (c) Partial AUC convex hull objective"
   ]
  },
  {
   "cell_type": "code",
   "execution_count": 12,
   "metadata": {},
   "outputs": [
    {
     "name": "stdout",
     "output_type": "stream",
     "text": [
      "loss function: pauc\n",
      "lambda:  0.01\n",
      "COUNT_UNIQLEAVES: 4968\n",
      "COUNT_LEAFLOOKUPS: 159398\n",
      "total time:  60.001120805740356\n",
      "leaves:  [(1,), (-9, -1, 2), (-1, 2, 9), (-14, -12, -2, -1), (-14, -2, -1, 12), (-13, -2, -1, 14), (-2, -1, 13, 14)]\n",
      "num_captured:  [29, 31, 8, 11, 13, 20, 12]\n",
      "prediction:  [1, 1, 1, 1, 1, 1, 1]\n",
      "Objective:  0.8700000000000001\n",
      "pauc :  0.19999999999999996\n",
      "COUNT of the best tree:  154031\n",
      "time when the best tree is achieved:  40.786935567855835\n",
      "TOTAL COUNT:  240889\n",
      "{'feature': 11, 'name': 'jacket_color_red', 'reference': 1, 'relation': '==', 'true': {'complexity': 0.01, 'loss': 0.0, 'name': 'class', 'prediction': 1}, 'false': {'feature': 0, 'name': 'head_shape_round', 'reference': 1, 'relation': '==', 'true': {'feature': 3, 'name': 'body_shape_round', 'reference': 1, 'relation': '==', 'true': {'complexity': 0.01, 'loss': 0.0, 'name': 'class', 'prediction': 1}, 'false': {'complexity': 0.01, 'loss': 0.24999999999999983, 'name': 'class', 'prediction': 1}}, 'false': {'feature': 1, 'name': 'head_shape_square', 'reference': 1, 'relation': '==', 'true': {'feature': 4, 'name': 'body_shape_square', 'reference': 1, 'relation': '==', 'true': {'complexity': 0.01, 'loss': 0.0, 'name': 'class', 'prediction': 1}, 'false': {'complexity': 0.01, 'loss': 0.16129032258064507, 'name': 'class', 'prediction': 1}}, 'false': {'feature': 5, 'name': 'body_shape_octagon', 'reference': 1, 'relation': '==', 'true': {'complexity': 0.01, 'loss': 0.0, 'name': 'class', 'prediction': 1}, 'false': {'complexity': 0.01, 'loss': 0.08870967741935482, 'name': 'class', 'prediction': 1}}}}}\n"
     ]
    }
   ],
   "source": [
    "config={\n",
    "        \"regularization\": 0.01,\n",
    "        \"objective\": \"pauc\",\n",
    "        \"theta\": 0.2,\n",
    "        \"time_limit\": 60\n",
    "}\n",
    "model = GOSDT(config)\n",
    "model.fit(X, y)\n",
    "print(model.tree.source)"
   ]
  },
  {
   "cell_type": "markdown",
   "metadata": {},
   "source": [
    "The algorithm cannot finish running within 60 seconds time limit and returns the best tree so far. We can also draw the ROC curve. You may find that this pauc convex hull value different from output above. This is because we calculate the whole area under the ROC curve here, but previous is only the area for the top theta proportion. "
   ]
  },
  {
   "cell_type": "code",
   "execution_count": 13,
   "metadata": {},
   "outputs": [
    {
     "name": "stdout",
     "output_type": "stream",
     "text": [
      "area under roc curve: 1.0\n"
     ]
    },
    {
     "data": {
      "image/png": "[encoded data removed]",
      "text/plain": [
       "<Figure size 432x288 with 1 Axes>"
      ]
     },
     "metadata": {
      "needs_background": "light"
     },
     "output_type": "display_data"
    }
   ],
   "source": [
    "a = copy.deepcopy(model.tree.source)       \n",
    "plot_roc(a, X, y)"
   ]
  },
  {
   "cell_type": "code",
   "execution_count": null,
   "metadata": {},
   "outputs": [],
   "source": []
  },
  {
   "cell_type": "markdown",
   "metadata": {},
   "source": [
    "### Example on running on FourClass dataset\n",
    "Monk1 is not very interesting. Different objectives end up with the same ROC curve. In the second example, we run on Four Class dataset"
   ]
  },
  {
   "cell_type": "code",
   "execution_count": 14,
   "metadata": {},
   "outputs": [],
   "source": [
    "df = pd.read_csv(\n",
    "    \"https://www.csie.ntu.edu.tw/~cjlin/libsvmtools/datasets/binary/fourclass\", sep=\"\\s+|:\", header=None, engine=\"python\")"
   ]
  },
  {
   "cell_type": "code",
   "execution_count": 15,
   "metadata": {},
   "outputs": [],
   "source": [
    "X = df.iloc[:,[2,4]].astype(int)\n",
    "X.columns = [\"f1\", \"f2\"]\n",
    "y = df.iloc[:,0]\n",
    "y = pd.DataFrame(y)\n",
    "y[y==-1] = 0"
   ]
  },
  {
   "cell_type": "code",
   "execution_count": 16,
   "metadata": {},
   "outputs": [
    {
     "data": {
      "text/html": [
       "<div>\n",
       "<style scoped>\n",
       "    .dataframe tbody tr th:only-of-type {\n",
       "        vertical-align: middle;\n",
       "    }\n",
       "\n",
       "    .dataframe tbody tr th {\n",
       "        vertical-align: top;\n",
       "    }\n",
       "\n",
       "    .dataframe thead th {\n",
       "        text-align: right;\n",
       "    }\n",
       "</style>\n",
       "<table border=\"1\" class=\"dataframe\">\n",
       "  <thead>\n",
       "    <tr style=\"text-align: right;\">\n",
       "      <th></th>\n",
       "      <th>f1</th>\n",
       "      <th>f2</th>\n",
       "    </tr>\n",
       "  </thead>\n",
       "  <tbody>\n",
       "    <tr>\n",
       "      <th>0</th>\n",
       "      <td>167</td>\n",
       "      <td>178</td>\n",
       "    </tr>\n",
       "    <tr>\n",
       "      <th>1</th>\n",
       "      <td>162</td>\n",
       "      <td>31</td>\n",
       "    </tr>\n",
       "    <tr>\n",
       "      <th>2</th>\n",
       "      <td>142</td>\n",
       "      <td>96</td>\n",
       "    </tr>\n",
       "    <tr>\n",
       "      <th>3</th>\n",
       "      <td>132</td>\n",
       "      <td>169</td>\n",
       "    </tr>\n",
       "    <tr>\n",
       "      <th>4</th>\n",
       "      <td>169</td>\n",
       "      <td>74</td>\n",
       "    </tr>\n",
       "  </tbody>\n",
       "</table>\n",
       "</div>"
      ],
      "text/plain": [
       "    f1   f2\n",
       "0  167  178\n",
       "1  162   31\n",
       "2  142   96\n",
       "3  132  169\n",
       "4  169   74"
      ]
     },
     "execution_count": 16,
     "metadata": {},
     "output_type": "execute_result"
    }
   ],
   "source": [
    "X.head()"
   ]
  },
  {
   "cell_type": "markdown",
   "metadata": {},
   "source": [
    "These two features are continuous. We use threshold guess to preprocess the data. "
   ]
  },
  {
   "cell_type": "code",
   "execution_count": 17,
   "metadata": {},
   "outputs": [
    {
     "name": "stdout",
     "output_type": "stream",
     "text": [
      "(862, 7)\n",
      "   f1<=70.5  f1<=73.5  f1<=114.5  f1<=120.5  f1<=143.5  f2<=82.5  f2<=167.5\n",
      "0         0         0          0          0          0         0          0\n",
      "1         0         0          0          0          0         1          1\n",
      "2         0         0          0          0          1         0          1\n",
      "3         0         0          0          0          1         0          0\n",
      "4         0         0          0          0          0         1          1\n"
     ]
    }
   ],
   "source": [
    "# GBDT parameters for threshold and lower bound guesses\n",
    "n_est = 40\n",
    "max_depth = 1\n",
    "# guess thresholds\n",
    "X_guessed, thresholds, header, threshold_guess_time = compute_thresholds(X.copy(), y, n_est, max_depth)\n",
    "print(X_guessed.shape)\n",
    "print(X_guessed.head())"
   ]
  },
  {
   "cell_type": "markdown",
   "metadata": {},
   "source": [
    "#### (a) F1 objective"
   ]
  },
  {
   "cell_type": "code",
   "execution_count": 18,
   "metadata": {},
   "outputs": [],
   "source": [
    "config={\n",
    "        \"regularization\": 0.01,\n",
    "        \"objective\": \"f1\",\n",
    "        \"w\": 0.9,\n",
    "        \"time_limit\": 60\n",
    "}\n",
    "model = GOSDT(config)"
   ]
  },
  {
   "cell_type": "code",
   "execution_count": 19,
   "metadata": {},
   "outputs": [
    {
     "name": "stdout",
     "output_type": "stream",
     "text": [
      "loss function: f1\n",
      "lambda:  0.01\n",
      "COUNT_UNIQLEAVES: 80\n",
      "COUNT_LEAFLOOKUPS: 14\n",
      "total time:  0.24343013763427734\n",
      "leaves:  [(1,), (-1, 6), (-7, -6, -1), (-6, -4, -1, 7), (-6, -1, 4, 7)]\n",
      "num_captured:  [294, 230, 65, 138, 135]\n",
      "prediction:  [0, 1, 0, 1, 0]\n",
      "Objective:  0.29444444444444445\n",
      "f1 :  0.7555555555555555\n",
      "COUNT of the best tree:  116\n",
      "time when the best tree is achieved:  0.2224864959716797\n",
      "TOTAL COUNT:  133\n"
     ]
    },
    {
     "data": {
      "text/plain": [
       "<gosdt.model.gosdt_fix.GOSDT at 0x25798333108>"
      ]
     },
     "execution_count": 19,
     "metadata": {},
     "output_type": "execute_result"
    }
   ],
   "source": [
    "model.fit(X_guessed, y)"
   ]
  },
  {
   "cell_type": "code",
   "execution_count": 20,
   "metadata": {},
   "outputs": [
    {
     "name": "stdout",
     "output_type": "stream",
     "text": [
      "Model training time: 0.24345089999999914\n",
      "Training accuracy: 0.808584686774942\n",
      "# of leaves: 5\n"
     ]
    }
   ],
   "source": [
    "acc = model.score(X_guessed, y)\n",
    "n_leaves = model.leaves()\n",
    "n_nodes = model.nodes()\n",
    "\n",
    "print(\"Model training time: {}\".format(model.duration))\n",
    "print(\"Training accuracy: {}\".format(acc))\n",
    "print(\"# of leaves: {}\".format(n_leaves))"
   ]
  },
  {
   "cell_type": "code",
   "execution_count": 21,
   "metadata": {},
   "outputs": [
    {
     "name": "stdout",
     "output_type": "stream",
     "text": [
      "f1 score: 0.7555555555555555\n"
     ]
    }
   ],
   "source": [
    "# Note that if you want to test f1 metric, tree.score() won't work. \n",
    "from sklearn.metrics import f1_score\n",
    "y_hat = model.predict(X_guessed)\n",
    "print(\"f1 score:\", f1_score(y, y_hat)) # the value matches the printout above. "
   ]
  },
  {
   "cell_type": "markdown",
   "metadata": {},
   "source": [
    "#### (b) AUC convex hull objective"
   ]
  },
  {
   "cell_type": "code",
   "execution_count": 22,
   "metadata": {},
   "outputs": [
    {
     "name": "stdout",
     "output_type": "stream",
     "text": [
      "loss function: auc\n",
      "lambda:  0.01\n",
      "COUNT_UNIQLEAVES: 655\n",
      "COUNT_LEAFLOOKUPS: 112127\n",
      "total time:  60.00080442428589\n",
      "leaves:  [(2,), (-4, -2, 6), (-6, -2, 4), (-2, 4, 6), (-7, -6, -4, -2), (-6, -4, -2, 7)]\n",
      "num_captured:  [278, 114, 153, 123, 56, 138]\n",
      "prediction:  [1, 1, 1, 1, 1, 1]\n",
      "Objective:  0.16208645127211901\n",
      "auc :  0.897913548727881\n",
      "COUNT of the best tree:  4523\n",
      "time when the best tree is achieved:  3.0249080657958984\n",
      "TOTAL COUNT:  95088\n",
      "{'feature': 0, 'name': 'f1<=70.5', 'reference': 1, 'relation': '==', 'true': {'complexity': 0.01, 'loss': 0.31322505800464034, 'name': 'class', 'prediction': 1}, 'false': {'feature': 3, 'name': 'f1<=120.5', 'reference': 1, 'relation': '==', 'true': {'feature': 5, 'name': 'f2<=82.5', 'reference': 1, 'relation': '==', 'true': {'complexity': 0.01, 'loss': 0.07540603248259867, 'name': 'class', 'prediction': 1}, 'false': {'complexity': 0.01, 'loss': 0.1299303944315549, 'name': 'class', 'prediction': 1}}, 'false': {'feature': 5, 'name': 'f2<=82.5', 'reference': 1, 'relation': '==', 'true': {'complexity': 0.01, 'loss': 0.002320185614849188, 'name': 'class', 'prediction': 1}, 'false': {'feature': 6, 'name': 'f2<=167.5', 'reference': 1, 'relation': '==', 'true': {'complexity': 0.01, 'loss': 0.058004640371229696, 'name': 'class', 'prediction': 1}, 'false': {'complexity': 0.01, 'loss': 0.06496519721577726, 'name': 'class', 'prediction': 1}}}}}\n"
     ]
    }
   ],
   "source": [
    "config={\n",
    "        \"regularization\": 0.01,\n",
    "        \"objective\": \"auc\",\n",
    "        \"time_limit\": 60\n",
    "}\n",
    "model = GOSDT(config)\n",
    "model.fit(X_guessed, y)\n",
    "print(model.tree.source)"
   ]
  },
  {
   "cell_type": "code",
   "execution_count": 23,
   "metadata": {},
   "outputs": [
    {
     "name": "stdout",
     "output_type": "stream",
     "text": [
      "area under roc curve: 0.897913548727881\n"
     ]
    },
    {
     "data": {
      "image/png": "[encoded data removed]",
      "text/plain": [
       "<Figure size 432x288 with 1 Axes>"
      ]
     },
     "metadata": {
      "needs_background": "light"
     },
     "output_type": "display_data"
    }
   ],
   "source": [
    "a = copy.deepcopy(model.tree.source)       \n",
    "plot_roc(a, X_guessed, y)"
   ]
  },
  {
   "cell_type": "markdown",
   "metadata": {},
   "source": [
    "#### (c) Partial AUC convex hull objective"
   ]
  },
  {
   "cell_type": "code",
   "execution_count": 24,
   "metadata": {},
   "outputs": [
    {
     "name": "stdout",
     "output_type": "stream",
     "text": [
      "loss function: pauc\n",
      "lambda:  0.01\n",
      "COUNT_UNIQLEAVES: 829\n",
      "COUNT_LEAFLOOKUPS: 229855\n",
      "total time:  60.00115752220154\n",
      "leaves:  [(4,), (-4, 6), (-7, -6, -4), (-6, -4, 7)]\n",
      "num_captured:  [554, 114, 56, 138]\n",
      "prediction:  [1, 1, 1, 1]\n",
      "Objective:  0.9218638392234353\n",
      "pauc :  0.11813616077656475\n",
      "COUNT of the best tree:  36\n",
      "time when the best tree is achieved:  0.02991962432861328\n",
      "TOTAL COUNT:  115120\n",
      "{'feature': 3, 'name': 'f1<=120.5', 'reference': 1, 'relation': '==', 'true': {'complexity': 0.01, 'loss': 0.5185614849187898, 'name': 'class', 'prediction': 1}, 'false': {'feature': 5, 'name': 'f2<=82.5', 'reference': 1, 'relation': '==', 'true': {'complexity': 0.01, 'loss': 0.002320185614849188, 'name': 'class', 'prediction': 1}, 'false': {'feature': 6, 'name': 'f2<=167.5', 'reference': 1, 'relation': '==', 'true': {'complexity': 0.01, 'loss': 0.058004640371229696, 'name': 'class', 'prediction': 1}, 'false': {'complexity': 0.01, 'loss': 0.06496519721577726, 'name': 'class', 'prediction': 1}}}}\n"
     ]
    }
   ],
   "source": [
    "config={\n",
    "        \"regularization\": 0.01,\n",
    "        \"objective\": \"pauc\",\n",
    "        \"theta\": 0.2,\n",
    "        \"time_limit\": 60\n",
    "}\n",
    "model = GOSDT(config)\n",
    "model.fit(X_guessed, y)\n",
    "print(model.tree.source)"
   ]
  },
  {
   "cell_type": "code",
   "execution_count": 25,
   "metadata": {},
   "outputs": [
    {
     "name": "stdout",
     "output_type": "stream",
     "text": [
      "area under roc curve: 0.8123866537547318\n"
     ]
    },
    {
     "data": {
      "image/png": "[encoded data removed]",
      "text/plain": [
       "<Figure size 432x288 with 1 Axes>"
      ]
     },
     "metadata": {
      "needs_background": "light"
     },
     "output_type": "display_data"
    }
   ],
   "source": [
    "a = copy.deepcopy(model.tree.source)       \n",
    "plot_roc(a, X_guessed, y)"
   ]
  },
  {
   "cell_type": "markdown",
   "metadata": {},
   "source": [
    "In this example, we can see different ROC curve when optimizing different objectives. "
   ]
  },
  {
   "cell_type": "code",
   "execution_count": null,
   "metadata": {},
   "outputs": [],
   "source": []
  }
 ],
 "metadata": {
  "kernelspec": {
   "display_name": "Python 3",
   "language": "python",
   "name": "python3"
  },
  "language_info": {
   "codemirror_mode": {
    "name": "ipython",
    "version": 3
   },
   "file_extension": ".py",
   "mimetype": "text/x-python",
   "name": "python",
   "nbconvert_exporter": "python",
   "pygments_lexer": "ipython3",
   "version": "3.7.6"
  }
 },
 "nbformat": 4,
 "nbformat_minor": 4
}
